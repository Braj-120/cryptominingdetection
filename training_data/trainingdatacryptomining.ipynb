{
 "cells": [
  {
   "cell_type": "code",
   "execution_count": 83,
   "metadata": {},
   "outputs": [],
   "source": [
    "import pandas as pd\n",
    "import numpy as np\n",
    "import matplotlib.pyplot as plt \n",
    "from sklearn.model_selection import train_test_split\n",
    "from sklearn import preprocessing\n",
    "import os # accessing directory structure"
   ]
  },
  {
   "cell_type": "markdown",
   "metadata": {},
   "source": [
    "# For Importing the training data files"
   ]
  },
  {
   "cell_type": "code",
   "execution_count": null,
   "metadata": {},
   "outputs": [],
   "source": [
    "for dirname, _, filenames in os.walk('project_work\\\\training_data'):\n",
    "    for filename in filenames:\n",
    "        print(os.path.join(dirname, filename))"
   ]
  },
  {
   "cell_type": "code",
   "execution_count": 85,
   "metadata": {},
   "outputs": [
    {
     "name": "stdout",
     "output_type": "stream",
     "text": [
      "There are 10258 rows and 62 columns\n"
     ]
    }
   ],
   "source": [
    "nRowsRead = None # specify 'None' if want to read whole file\n",
    "df1 = pd.read_csv('project_work\\\\training_data\\\\train_final.csv', delimiter=',', nrows = nRowsRead)\n",
    "df1.dataframeName = 'train_final.csv'\n",
    "nRow, nCol = df1.shape\n",
    "print(f'There are {nRow} rows and {nCol} columns')"
   ]
  },
  {
   "cell_type": "code",
   "execution_count": 86,
   "metadata": {
    "scrolled": true
   },
   "outputs": [
    {
     "data": {
      "text/html": [
       "<div>\n",
       "<style scoped>\n",
       "    .dataframe tbody tr th:only-of-type {\n",
       "        vertical-align: middle;\n",
       "    }\n",
       "\n",
       "    .dataframe tbody tr th {\n",
       "        vertical-align: top;\n",
       "    }\n",
       "\n",
       "    .dataframe thead th {\n",
       "        text-align: right;\n",
       "    }\n",
       "</style>\n",
       "<table border=\"1\" class=\"dataframe\">\n",
       "  <thead>\n",
       "    <tr style=\"text-align: right;\">\n",
       "      <th></th>\n",
       "      <th>cpu_user</th>\n",
       "      <th>cpu_nice</th>\n",
       "      <th>cpu_system</th>\n",
       "      <th>cpu_idle</th>\n",
       "      <th>cpu_iowait</th>\n",
       "      <th>cpu_irq</th>\n",
       "      <th>cpu_softirq</th>\n",
       "      <th>cpu_steal</th>\n",
       "      <th>cpu_guest</th>\n",
       "      <th>cpu_guest_nice</th>\n",
       "      <th>...</th>\n",
       "      <th>net_bytes_sent</th>\n",
       "      <th>net_bytes_recv</th>\n",
       "      <th>net_packets_sent</th>\n",
       "      <th>net_packets_recv</th>\n",
       "      <th>net_errin</th>\n",
       "      <th>net_errout</th>\n",
       "      <th>net_dropin</th>\n",
       "      <th>net_dropout</th>\n",
       "      <th>timestamp</th>\n",
       "      <th>crypto_running</th>\n",
       "    </tr>\n",
       "  </thead>\n",
       "  <tbody>\n",
       "    <tr>\n",
       "      <th>0</th>\n",
       "      <td>1.0</td>\n",
       "      <td>0.0</td>\n",
       "      <td>0.0</td>\n",
       "      <td>0.0</td>\n",
       "      <td>0.0</td>\n",
       "      <td>0</td>\n",
       "      <td>0.0</td>\n",
       "      <td>0.0</td>\n",
       "      <td>0</td>\n",
       "      <td>0</td>\n",
       "      <td>...</td>\n",
       "      <td>59074196</td>\n",
       "      <td>71312318</td>\n",
       "      <td>342958</td>\n",
       "      <td>351573</td>\n",
       "      <td>0</td>\n",
       "      <td>0</td>\n",
       "      <td>0</td>\n",
       "      <td>0</td>\n",
       "      <td>1637994049</td>\n",
       "      <td>0</td>\n",
       "    </tr>\n",
       "    <tr>\n",
       "      <th>1</th>\n",
       "      <td>0.1</td>\n",
       "      <td>0.0</td>\n",
       "      <td>0.1</td>\n",
       "      <td>99.7</td>\n",
       "      <td>0.1</td>\n",
       "      <td>0</td>\n",
       "      <td>0.0</td>\n",
       "      <td>0.1</td>\n",
       "      <td>0</td>\n",
       "      <td>0</td>\n",
       "      <td>...</td>\n",
       "      <td>59081916</td>\n",
       "      <td>71315002</td>\n",
       "      <td>342976</td>\n",
       "      <td>351600</td>\n",
       "      <td>0</td>\n",
       "      <td>0</td>\n",
       "      <td>0</td>\n",
       "      <td>0</td>\n",
       "      <td>1637994064</td>\n",
       "      <td>0</td>\n",
       "    </tr>\n",
       "    <tr>\n",
       "      <th>2</th>\n",
       "      <td>0.1</td>\n",
       "      <td>0.0</td>\n",
       "      <td>0.1</td>\n",
       "      <td>99.7</td>\n",
       "      <td>0.0</td>\n",
       "      <td>0</td>\n",
       "      <td>0.0</td>\n",
       "      <td>0.0</td>\n",
       "      <td>0</td>\n",
       "      <td>0</td>\n",
       "      <td>...</td>\n",
       "      <td>59084204</td>\n",
       "      <td>71316492</td>\n",
       "      <td>342986</td>\n",
       "      <td>351614</td>\n",
       "      <td>0</td>\n",
       "      <td>0</td>\n",
       "      <td>0</td>\n",
       "      <td>0</td>\n",
       "      <td>1637994079</td>\n",
       "      <td>0</td>\n",
       "    </tr>\n",
       "    <tr>\n",
       "      <th>3</th>\n",
       "      <td>0.1</td>\n",
       "      <td>0.0</td>\n",
       "      <td>0.0</td>\n",
       "      <td>99.8</td>\n",
       "      <td>0.1</td>\n",
       "      <td>0</td>\n",
       "      <td>0.0</td>\n",
       "      <td>0.0</td>\n",
       "      <td>0</td>\n",
       "      <td>0</td>\n",
       "      <td>...</td>\n",
       "      <td>59096230</td>\n",
       "      <td>71318404</td>\n",
       "      <td>343001</td>\n",
       "      <td>351633</td>\n",
       "      <td>0</td>\n",
       "      <td>0</td>\n",
       "      <td>0</td>\n",
       "      <td>0</td>\n",
       "      <td>1637994094</td>\n",
       "      <td>1</td>\n",
       "    </tr>\n",
       "    <tr>\n",
       "      <th>4</th>\n",
       "      <td>0.1</td>\n",
       "      <td>0.0</td>\n",
       "      <td>0.1</td>\n",
       "      <td>99.7</td>\n",
       "      <td>0.0</td>\n",
       "      <td>0</td>\n",
       "      <td>0.0</td>\n",
       "      <td>0.0</td>\n",
       "      <td>0</td>\n",
       "      <td>0</td>\n",
       "      <td>...</td>\n",
       "      <td>59101848</td>\n",
       "      <td>71320972</td>\n",
       "      <td>343020</td>\n",
       "      <td>351663</td>\n",
       "      <td>0</td>\n",
       "      <td>0</td>\n",
       "      <td>0</td>\n",
       "      <td>0</td>\n",
       "      <td>1637994109</td>\n",
       "      <td>1</td>\n",
       "    </tr>\n",
       "  </tbody>\n",
       "</table>\n",
       "<p>5 rows × 62 columns</p>\n",
       "</div>"
      ],
      "text/plain": [
       "   cpu_user  cpu_nice  cpu_system  cpu_idle  cpu_iowait  cpu_irq  cpu_softirq  \\\n",
       "0       1.0       0.0         0.0       0.0         0.0        0          0.0   \n",
       "1       0.1       0.0         0.1      99.7         0.1        0          0.0   \n",
       "2       0.1       0.0         0.1      99.7         0.0        0          0.0   \n",
       "3       0.1       0.0         0.0      99.8         0.1        0          0.0   \n",
       "4       0.1       0.0         0.1      99.7         0.0        0          0.0   \n",
       "\n",
       "   cpu_steal  cpu_guest  cpu_guest_nice  ...  net_bytes_sent  net_bytes_recv  \\\n",
       "0        0.0          0               0  ...        59074196        71312318   \n",
       "1        0.1          0               0  ...        59081916        71315002   \n",
       "2        0.0          0               0  ...        59084204        71316492   \n",
       "3        0.0          0               0  ...        59096230        71318404   \n",
       "4        0.0          0               0  ...        59101848        71320972   \n",
       "\n",
       "   net_packets_sent  net_packets_recv  net_errin  net_errout  net_dropin  \\\n",
       "0            342958            351573          0           0           0   \n",
       "1            342976            351600          0           0           0   \n",
       "2            342986            351614          0           0           0   \n",
       "3            343001            351633          0           0           0   \n",
       "4            343020            351663          0           0           0   \n",
       "\n",
       "   net_dropout   timestamp  crypto_running  \n",
       "0            0  1637994049               0  \n",
       "1            0  1637994064               0  \n",
       "2            0  1637994079               0  \n",
       "3            0  1637994094               1  \n",
       "4            0  1637994109               1  \n",
       "\n",
       "[5 rows x 62 columns]"
      ]
     },
     "execution_count": 86,
     "metadata": {},
     "output_type": "execute_result"
    }
   ],
   "source": [
    "df1.head(5)"
   ]
  },
  {
   "cell_type": "code",
   "execution_count": 87,
   "metadata": {},
   "outputs": [
    {
     "name": "stdout",
     "output_type": "stream",
     "text": [
      "<class 'pandas.core.frame.DataFrame'>\n",
      "RangeIndex: 10258 entries, 0 to 10257\n",
      "Data columns (total 62 columns):\n",
      " #   Column                   Non-Null Count  Dtype  \n",
      "---  ------                   --------------  -----  \n",
      " 0   cpu_user                 10258 non-null  float64\n",
      " 1   cpu_nice                 10258 non-null  float64\n",
      " 2   cpu_system               10258 non-null  float64\n",
      " 3   cpu_idle                 10258 non-null  float64\n",
      " 4   cpu_iowait               10258 non-null  float64\n",
      " 5   cpu_irq                  10258 non-null  int64  \n",
      " 6   cpu_softirq              10258 non-null  float64\n",
      " 7   cpu_steal                10258 non-null  float64\n",
      " 8   cpu_guest                10258 non-null  int64  \n",
      " 9   cpu_guest_nice           10258 non-null  int64  \n",
      " 10  cpu_percent_avg          10258 non-null  int64  \n",
      " 11  cpu_percent              10258 non-null  float64\n",
      " 12  cpu_user_0               10258 non-null  float64\n",
      " 13  cpu_nice_0               10258 non-null  float64\n",
      " 14  cpu_system_0             10258 non-null  float64\n",
      " 15  cpu_idle_0               10258 non-null  float64\n",
      " 16  cpu_iowait_0             10258 non-null  float64\n",
      " 17  cpu_irq_0                10258 non-null  int64  \n",
      " 18  cpu_softirq_0            10258 non-null  float64\n",
      " 19  cpu_steal_0              10258 non-null  float64\n",
      " 20  cpu_guest_0              10258 non-null  int64  \n",
      " 21  cpu_guest_nice_0         10258 non-null  int64  \n",
      " 22  mem_total                10258 non-null  int64  \n",
      " 23  mem_available            10258 non-null  int64  \n",
      " 24  mem_percent              10258 non-null  float64\n",
      " 25  mem_used                 10258 non-null  int64  \n",
      " 26  mem_free                 10258 non-null  int64  \n",
      " 27  mem_active               10258 non-null  int64  \n",
      " 28  mem_inactive             10258 non-null  int64  \n",
      " 29  mem_buffers              10258 non-null  int64  \n",
      " 30  mem_cached               10258 non-null  int64  \n",
      " 31  mem_shared               10258 non-null  int64  \n",
      " 32  mem_slab                 10258 non-null  int64  \n",
      " 33  swap_total               10258 non-null  int64  \n",
      " 34  swap_used                10258 non-null  int64  \n",
      " 35  swap_free                10258 non-null  int64  \n",
      " 36  swap_percent             10258 non-null  int64  \n",
      " 37  swap_sin                 10258 non-null  int64  \n",
      " 38  swap_sout                10258 non-null  int64  \n",
      " 39  disk_total               10258 non-null  int64  \n",
      " 40  disk_used                10258 non-null  int64  \n",
      " 41  disk_free                10258 non-null  int64  \n",
      " 42  disk_percent             10258 non-null  float64\n",
      " 43  disk_read_count          10258 non-null  int64  \n",
      " 44  disk_write_count         10258 non-null  int64  \n",
      " 45  disk_read_bytes          10258 non-null  int64  \n",
      " 46  disk_write_bytes         10258 non-null  int64  \n",
      " 47  disk_read_time           10258 non-null  int64  \n",
      " 48  disk_write_time          10258 non-null  int64  \n",
      " 49  disk_read_merged_count   10258 non-null  int64  \n",
      " 50  disk_write_merged_count  10258 non-null  int64  \n",
      " 51  disk_busy_time           10258 non-null  int64  \n",
      " 52  net_bytes_sent           10258 non-null  int64  \n",
      " 53  net_bytes_recv           10258 non-null  int64  \n",
      " 54  net_packets_sent         10258 non-null  int64  \n",
      " 55  net_packets_recv         10258 non-null  int64  \n",
      " 56  net_errin                10258 non-null  int64  \n",
      " 57  net_errout               10258 non-null  int64  \n",
      " 58  net_dropin               10258 non-null  int64  \n",
      " 59  net_dropout              10258 non-null  int64  \n",
      " 60  timestamp                10258 non-null  int64  \n",
      " 61  crypto_running           10258 non-null  int64  \n",
      "dtypes: float64(17), int64(45)\n",
      "memory usage: 4.9 MB\n"
     ]
    }
   ],
   "source": [
    "df1.info()"
   ]
  },
  {
   "cell_type": "markdown",
   "metadata": {},
   "source": [
    "<b> Drop timestamp as it is irrelevant</b>"
   ]
  },
  {
   "cell_type": "code",
   "execution_count": 88,
   "metadata": {},
   "outputs": [],
   "source": [
    "df1 = df1.drop('timestamp', axis=1)"
   ]
  },
  {
   "cell_type": "code",
   "execution_count": 89,
   "metadata": {},
   "outputs": [
    {
     "name": "stdout",
     "output_type": "stream",
     "text": [
      "<class 'pandas.core.frame.DataFrame'>\n",
      "RangeIndex: 10258 entries, 0 to 10257\n",
      "Data columns (total 61 columns):\n",
      " #   Column                   Non-Null Count  Dtype  \n",
      "---  ------                   --------------  -----  \n",
      " 0   cpu_user                 10258 non-null  float64\n",
      " 1   cpu_nice                 10258 non-null  float64\n",
      " 2   cpu_system               10258 non-null  float64\n",
      " 3   cpu_idle                 10258 non-null  float64\n",
      " 4   cpu_iowait               10258 non-null  float64\n",
      " 5   cpu_irq                  10258 non-null  int64  \n",
      " 6   cpu_softirq              10258 non-null  float64\n",
      " 7   cpu_steal                10258 non-null  float64\n",
      " 8   cpu_guest                10258 non-null  int64  \n",
      " 9   cpu_guest_nice           10258 non-null  int64  \n",
      " 10  cpu_percent_avg          10258 non-null  int64  \n",
      " 11  cpu_percent              10258 non-null  float64\n",
      " 12  cpu_user_0               10258 non-null  float64\n",
      " 13  cpu_nice_0               10258 non-null  float64\n",
      " 14  cpu_system_0             10258 non-null  float64\n",
      " 15  cpu_idle_0               10258 non-null  float64\n",
      " 16  cpu_iowait_0             10258 non-null  float64\n",
      " 17  cpu_irq_0                10258 non-null  int64  \n",
      " 18  cpu_softirq_0            10258 non-null  float64\n",
      " 19  cpu_steal_0              10258 non-null  float64\n",
      " 20  cpu_guest_0              10258 non-null  int64  \n",
      " 21  cpu_guest_nice_0         10258 non-null  int64  \n",
      " 22  mem_total                10258 non-null  int64  \n",
      " 23  mem_available            10258 non-null  int64  \n",
      " 24  mem_percent              10258 non-null  float64\n",
      " 25  mem_used                 10258 non-null  int64  \n",
      " 26  mem_free                 10258 non-null  int64  \n",
      " 27  mem_active               10258 non-null  int64  \n",
      " 28  mem_inactive             10258 non-null  int64  \n",
      " 29  mem_buffers              10258 non-null  int64  \n",
      " 30  mem_cached               10258 non-null  int64  \n",
      " 31  mem_shared               10258 non-null  int64  \n",
      " 32  mem_slab                 10258 non-null  int64  \n",
      " 33  swap_total               10258 non-null  int64  \n",
      " 34  swap_used                10258 non-null  int64  \n",
      " 35  swap_free                10258 non-null  int64  \n",
      " 36  swap_percent             10258 non-null  int64  \n",
      " 37  swap_sin                 10258 non-null  int64  \n",
      " 38  swap_sout                10258 non-null  int64  \n",
      " 39  disk_total               10258 non-null  int64  \n",
      " 40  disk_used                10258 non-null  int64  \n",
      " 41  disk_free                10258 non-null  int64  \n",
      " 42  disk_percent             10258 non-null  float64\n",
      " 43  disk_read_count          10258 non-null  int64  \n",
      " 44  disk_write_count         10258 non-null  int64  \n",
      " 45  disk_read_bytes          10258 non-null  int64  \n",
      " 46  disk_write_bytes         10258 non-null  int64  \n",
      " 47  disk_read_time           10258 non-null  int64  \n",
      " 48  disk_write_time          10258 non-null  int64  \n",
      " 49  disk_read_merged_count   10258 non-null  int64  \n",
      " 50  disk_write_merged_count  10258 non-null  int64  \n",
      " 51  disk_busy_time           10258 non-null  int64  \n",
      " 52  net_bytes_sent           10258 non-null  int64  \n",
      " 53  net_bytes_recv           10258 non-null  int64  \n",
      " 54  net_packets_sent         10258 non-null  int64  \n",
      " 55  net_packets_recv         10258 non-null  int64  \n",
      " 56  net_errin                10258 non-null  int64  \n",
      " 57  net_errout               10258 non-null  int64  \n",
      " 58  net_dropin               10258 non-null  int64  \n",
      " 59  net_dropout              10258 non-null  int64  \n",
      " 60  crypto_running           10258 non-null  int64  \n",
      "dtypes: float64(17), int64(44)\n",
      "memory usage: 4.8 MB\n"
     ]
    }
   ],
   "source": [
    "df1.info()"
   ]
  },
  {
   "cell_type": "code",
   "execution_count": 90,
   "metadata": {},
   "outputs": [],
   "source": [
    "X = df1.copy()\n",
    "X = X.loc[:, X.columns != 'crypto_running']\n",
    "y = df1[\"crypto_running\"].astype(int)"
   ]
  },
  {
   "cell_type": "code",
   "execution_count": 91,
   "metadata": {},
   "outputs": [
    {
     "data": {
      "text/plain": [
       "['cpu_user',\n",
       " 'cpu_nice',\n",
       " 'cpu_system',\n",
       " 'cpu_idle',\n",
       " 'cpu_iowait',\n",
       " 'cpu_irq',\n",
       " 'cpu_softirq',\n",
       " 'cpu_steal',\n",
       " 'cpu_guest',\n",
       " 'cpu_guest_nice',\n",
       " 'cpu_percent_avg',\n",
       " 'cpu_percent',\n",
       " 'cpu_user_0',\n",
       " 'cpu_nice_0',\n",
       " 'cpu_system_0',\n",
       " 'cpu_idle_0',\n",
       " 'cpu_iowait_0',\n",
       " 'cpu_irq_0',\n",
       " 'cpu_softirq_0',\n",
       " 'cpu_steal_0',\n",
       " 'cpu_guest_0',\n",
       " 'cpu_guest_nice_0',\n",
       " 'mem_total',\n",
       " 'mem_available',\n",
       " 'mem_percent',\n",
       " 'mem_used',\n",
       " 'mem_free',\n",
       " 'mem_active',\n",
       " 'mem_inactive',\n",
       " 'mem_buffers',\n",
       " 'mem_cached',\n",
       " 'mem_shared',\n",
       " 'mem_slab',\n",
       " 'swap_total',\n",
       " 'swap_used',\n",
       " 'swap_free',\n",
       " 'swap_percent',\n",
       " 'swap_sin',\n",
       " 'swap_sout',\n",
       " 'disk_total',\n",
       " 'disk_used',\n",
       " 'disk_free',\n",
       " 'disk_percent',\n",
       " 'disk_read_count',\n",
       " 'disk_write_count',\n",
       " 'disk_read_bytes',\n",
       " 'disk_write_bytes',\n",
       " 'disk_read_time',\n",
       " 'disk_write_time',\n",
       " 'disk_read_merged_count',\n",
       " 'disk_write_merged_count',\n",
       " 'disk_busy_time',\n",
       " 'net_bytes_sent',\n",
       " 'net_bytes_recv',\n",
       " 'net_packets_sent',\n",
       " 'net_packets_recv',\n",
       " 'net_errin',\n",
       " 'net_errout',\n",
       " 'net_dropin',\n",
       " 'net_dropout']"
      ]
     },
     "execution_count": 91,
     "metadata": {},
     "output_type": "execute_result"
    }
   ],
   "source": [
    "list(X.columns)"
   ]
  },
  {
   "cell_type": "markdown",
   "metadata": {},
   "source": [
    "### Using Logistic Regression Classifier"
   ]
  },
  {
   "cell_type": "code",
   "execution_count": 92,
   "metadata": {},
   "outputs": [],
   "source": [
    "from sklearn.model_selection import train_test_split\n",
    "X_train,X_test,y_train,y_test=train_test_split(X,y,test_size=0.25)"
   ]
  },
  {
   "cell_type": "code",
   "execution_count": 93,
   "metadata": {},
   "outputs": [
    {
     "name": "stderr",
     "output_type": "stream",
     "text": [
      "C:\\anaconda\\lib\\site-packages\\sklearn\\linear_model\\_logistic.py:814: ConvergenceWarning: lbfgs failed to converge (status=1):\n",
      "STOP: TOTAL NO. of ITERATIONS REACHED LIMIT.\n",
      "\n",
      "Increase the number of iterations (max_iter) or scale the data as shown in:\n",
      "    https://scikit-learn.org/stable/modules/preprocessing.html\n",
      "Please also refer to the documentation for alternative solver options:\n",
      "    https://scikit-learn.org/stable/modules/linear_model.html#logistic-regression\n",
      "  n_iter_i = _check_optimize_result(\n"
     ]
    }
   ],
   "source": [
    "# import the class\n",
    "from sklearn.linear_model import LogisticRegression\n",
    "\n",
    "# instantiate the model (using the default parameters)\n",
    "logreg = LogisticRegression()\n",
    "\n",
    "# fit the model with data\n",
    "logreg.fit(X_train,y_train)\n",
    "\n",
    "#\n",
    "y_pred=logreg.predict(X_test)"
   ]
  },
  {
   "cell_type": "code",
   "execution_count": 94,
   "metadata": {},
   "outputs": [
    {
     "data": {
      "text/plain": [
       "array([[1239,   22],\n",
       "       [  36, 1268]], dtype=int64)"
      ]
     },
     "execution_count": 94,
     "metadata": {},
     "output_type": "execute_result"
    }
   ],
   "source": [
    "# import the metrics class\n",
    "from sklearn import metrics\n",
    "from sklearn.metrics import classification_report, confusion_matrix\n",
    "cnf_matrix = confusion_matrix(y_test, y_pred)\n",
    "cnf_matrix"
   ]
  },
  {
   "cell_type": "code",
   "execution_count": 95,
   "metadata": {},
   "outputs": [
    {
     "name": "stdout",
     "output_type": "stream",
     "text": [
      "              precision    recall  f1-score   support\n",
      "\n",
      "           0       0.97      0.98      0.98      1261\n",
      "           1       0.98      0.97      0.98      1304\n",
      "\n",
      "    accuracy                           0.98      2565\n",
      "   macro avg       0.98      0.98      0.98      2565\n",
      "weighted avg       0.98      0.98      0.98      2565\n",
      "\n"
     ]
    }
   ],
   "source": [
    "print(classification_report(y_test, y_pred))"
   ]
  },
  {
   "cell_type": "code",
   "execution_count": 127,
   "metadata": {},
   "outputs": [
    {
     "data": {
      "image/png": "[encoded data removed]",
      "text/plain": [
       "<Figure size 432x288 with 1 Axes>"
      ]
     },
     "metadata": {
      "needs_background": "light"
     },
     "output_type": "display_data"
    }
   ],
   "source": [
    "y_pred_proba = logreg.predict_proba(X_test)[::,1]\n",
    "fpr, tpr, _ = metrics.roc_curve(y_test,  y_pred_proba)\n",
    "auc = metrics.roc_auc_score(y_test, y_pred_proba)\n",
    "plt.plot(fpr,tpr,label=\"data 1, auc=\"+str(auc))\n",
    "plt.xlabel('False Positive Rate')\n",
    "plt.ylabel('True Positive Rate')\n",
    "plt.legend(loc=4)\n",
    "plt.show()"
   ]
  },
  {
   "cell_type": "markdown",
   "metadata": {},
   "source": [
    "### Using Decision Tree Classifier\n"
   ]
  },
  {
   "cell_type": "code",
   "execution_count": 124,
   "metadata": {},
   "outputs": [],
   "source": [
    "from sklearn.tree import DecisionTreeClassifier\n",
    "dtc = DecisionTreeClassifier()\n",
    "dtc.fit(X_train, y_train)\n",
    "y_pred = dtc.predict(X_test)"
   ]
  },
  {
   "cell_type": "code",
   "execution_count": 99,
   "metadata": {},
   "outputs": [
    {
     "name": "stdout",
     "output_type": "stream",
     "text": [
      "[[1252    9]\n",
      " [   8 1296]]\n",
      "              precision    recall  f1-score   support\n",
      "\n",
      "           0       0.99      0.99      0.99      1261\n",
      "           1       0.99      0.99      0.99      1304\n",
      "\n",
      "    accuracy                           0.99      2565\n",
      "   macro avg       0.99      0.99      0.99      2565\n",
      "weighted avg       0.99      0.99      0.99      2565\n",
      "\n"
     ]
    }
   ],
   "source": [
    "print(confusion_matrix(y_test, y_pred))\n",
    "print(classification_report(y_test, y_pred))"
   ]
  },
  {
   "cell_type": "code",
   "execution_count": 128,
   "metadata": {},
   "outputs": [
    {
     "data": {
      "image/png": "[encoded data removed]",
      "text/plain": [
       "<Figure size 432x288 with 1 Axes>"
      ]
     },
     "metadata": {
      "needs_background": "light"
     },
     "output_type": "display_data"
    }
   ],
   "source": [
    "y_pred_proba = dtc.predict_proba(X_test)[::,1]\n",
    "fpr, tpr, _ = metrics.roc_curve(y_test,  y_pred_proba)\n",
    "auc = metrics.roc_auc_score(y_test, y_pred_proba)\n",
    "plt.plot(fpr,tpr,label=\"data 1, auc=\"+str(auc))\n",
    "plt.xlabel('False Positive Rate')\n",
    "plt.ylabel('True Positive Rate')\n",
    "plt.legend(loc=4)\n",
    "plt.show()"
   ]
  },
  {
   "cell_type": "markdown",
   "metadata": {},
   "source": [
    "### Using KNN Classifier"
   ]
  },
  {
   "cell_type": "code",
   "execution_count": 125,
   "metadata": {},
   "outputs": [
    {
     "name": "stdout",
     "output_type": "stream",
     "text": [
      "[[1258    3]\n",
      " [   8 1296]]\n",
      "              precision    recall  f1-score   support\n",
      "\n",
      "           0       0.99      1.00      1.00      1261\n",
      "           1       1.00      0.99      1.00      1304\n",
      "\n",
      "    accuracy                           1.00      2565\n",
      "   macro avg       1.00      1.00      1.00      2565\n",
      "weighted avg       1.00      1.00      1.00      2565\n",
      "\n"
     ]
    }
   ],
   "source": [
    "# Import module for KNN\n",
    "from sklearn.neighbors import KNeighborsClassifier\n",
    "# Create KNN instance\n",
    "# n_neighbors -> argument identifies the amount of neighbors used to ID classification\n",
    "knn = KNeighborsClassifier(n_neighbors=2)\n",
    "# Fit (i.e. traing) the model\n",
    "knn.fit(X_train, y_train)\n",
    "# Use the .predict() method to make predictions from the X_test subset\n",
    "y_pred = knn.predict(X_test)\n",
    "cnf_matrix = metrics.confusion_matrix(y_test, y_pred)\n",
    "cnf_matrix\n",
    "\n",
    "print(confusion_matrix(y_test, y_pred))\n",
    "print(classification_report(y_test, y_pred))"
   ]
  },
  {
   "cell_type": "code",
   "execution_count": 129,
   "metadata": {},
   "outputs": [
    {
     "data": {
      "image/png": "[encoded data removed]",
      "text/plain": [
       "<Figure size 432x288 with 1 Axes>"
      ]
     },
     "metadata": {
      "needs_background": "light"
     },
     "output_type": "display_data"
    }
   ],
   "source": [
    "y_pred_proba = knn.predict_proba(X_test)[::,1]\n",
    "fpr, tpr, _ = metrics.roc_curve(y_test,  y_pred_proba)\n",
    "auc = metrics.roc_auc_score(y_test, y_pred_proba)\n",
    "plt.plot(fpr,tpr,label=\"data 1, auc=\"+str(auc))\n",
    "plt.xlabel('False Positive Rate')\n",
    "plt.ylabel('True Positive Rate')\n",
    "plt.legend(loc=4)\n",
    "plt.show()"
   ]
  },
  {
   "cell_type": "markdown",
   "metadata": {},
   "source": [
    "### SVM"
   ]
  },
  {
   "cell_type": "code",
   "execution_count": 105,
   "metadata": {},
   "outputs": [],
   "source": [
    "#Import svm model\n",
    "from sklearn.svm import SVC\n",
    "\n",
    "#Create a svm Classifier\n",
    "svc_1 = SVC(kernel='sigmoid', probability=True) # Linear Kernel\n",
    "\n",
    "#Train the model using the training sets\n",
    "svc_1.fit(X_train, y_train)\n",
    "\n",
    "#Predict the response for test dataset\n",
    "y_pred = svc_1.predict(X_test)\n",
    "y_score = svc_1.decision_function(X_test)\n",
    "\n",
    "#Set a threshold -220\n",
    "y_score = np.where(y_score > -220, 1, 0)"
   ]
  },
  {
   "cell_type": "code",
   "execution_count": 106,
   "metadata": {},
   "outputs": [
    {
     "name": "stdout",
     "output_type": "stream",
     "text": [
      "[[1239   22]\n",
      " [  36 1268]]\n",
      "              precision    recall  f1-score   support\n",
      "\n",
      "           0       0.97      0.98      0.98      1261\n",
      "           1       0.98      0.97      0.98      1304\n",
      "\n",
      "    accuracy                           0.98      2565\n",
      "   macro avg       0.98      0.98      0.98      2565\n",
      "weighted avg       0.98      0.98      0.98      2565\n",
      "\n"
     ]
    }
   ],
   "source": [
    "cnf_matrix = metrics.confusion_matrix(y_test, y_pred)\n",
    "cnf_matrix\n",
    "print(confusion_matrix(y_test, y_pred))\n",
    "print(classification_report(y_test, y_pred))"
   ]
  },
  {
   "cell_type": "code",
   "execution_count": 130,
   "metadata": {},
   "outputs": [
    {
     "data": {
      "image/png": "[encoded data removed]",
      "text/plain": [
       "<Figure size 432x288 with 1 Axes>"
      ]
     },
     "metadata": {
      "needs_background": "light"
     },
     "output_type": "display_data"
    }
   ],
   "source": [
    "y_pred_proba = svc_1.predict_proba(X_test)[::,1]\n",
    "fpr, tpr, _ = metrics.roc_curve(y_test,  y_pred_proba)\n",
    "auc = metrics.roc_auc_score(y_test, y_pred_proba)\n",
    "plt.plot(fpr,tpr,label=\"data 1, auc=\"+str(auc))\n",
    "plt.xlabel('False Positive Rate')\n",
    "plt.ylabel('True Positive Rate')\n",
    "plt.legend(loc=4)\n",
    "plt.show()"
   ]
  },
  {
   "cell_type": "code",
   "execution_count": 108,
   "metadata": {},
   "outputs": [],
   "source": [
    "#Create a svm Classifier\n",
    "svc_rbf = SVC(kernel='rbf', probability=True) # Linear Kernel\n",
    "\n",
    "#Train the model using the training sets\n",
    "svc_rbf.fit(X_train, y_train)\n",
    "\n",
    "#Predict the response for test dataset\n",
    "y_pred = svc_rbf.predict(X_test)\n",
    "y_score = svc_rbf.decision_function(X_test)\n",
    "\n",
    "#Set a threshold -220\n",
    "y_score = np.where(y_score > -220, 1, 0)"
   ]
  },
  {
   "cell_type": "code",
   "execution_count": 109,
   "metadata": {},
   "outputs": [
    {
     "name": "stdout",
     "output_type": "stream",
     "text": [
      "[[1239   22]\n",
      " [  36 1268]]\n",
      "              precision    recall  f1-score   support\n",
      "\n",
      "           0       0.97      0.98      0.98      1261\n",
      "           1       0.98      0.97      0.98      1304\n",
      "\n",
      "    accuracy                           0.98      2565\n",
      "   macro avg       0.98      0.98      0.98      2565\n",
      "weighted avg       0.98      0.98      0.98      2565\n",
      "\n"
     ]
    }
   ],
   "source": [
    "cnf_matrix = metrics.confusion_matrix(y_test, y_pred)\n",
    "cnf_matrix\n",
    "print(confusion_matrix(y_test, y_pred))\n",
    "print(classification_report(y_test, y_pred))"
   ]
  },
  {
   "cell_type": "code",
   "execution_count": 126,
   "metadata": {},
   "outputs": [
    {
     "data": {
      "image/png": "[encoded data removed]",
      "text/plain": [
       "<Figure size 432x288 with 1 Axes>"
      ]
     },
     "metadata": {
      "needs_background": "light"
     },
     "output_type": "display_data"
    }
   ],
   "source": [
    "y_pred_proba = svc_rbf.predict_proba(X_test)[::,1]\n",
    "fpr, tpr, _ = metrics.roc_curve(y_test,  y_pred_proba)\n",
    "auc = metrics.roc_auc_score(y_test, y_pred_proba)\n",
    "plt.plot(fpr,tpr,label=\"data 1, auc=\"+str(auc))\n",
    "plt.legend(loc=4)\n",
    "plt.xlabel('False Positive Rate')\n",
    "plt.ylabel('True Positive Rate')\n",
    "plt.show()"
   ]
  },
  {
   "cell_type": "markdown",
   "metadata": {},
   "source": [
    "## Saving the models"
   ]
  },
  {
   "cell_type": "code",
   "execution_count": 111,
   "metadata": {},
   "outputs": [],
   "source": [
    "import joblib"
   ]
  },
  {
   "cell_type": "code",
   "execution_count": 112,
   "metadata": {},
   "outputs": [
    {
     "name": "stdout",
     "output_type": "stream",
     "text": [
      "KNN Model dumped!\n",
      "Decision Tree Model dumped!\n",
      "Logistic Model dumped!\n",
      "SVC Sigmoid Model dumped!\n",
      "SVC RBF Model dumped!\n"
     ]
    }
   ],
   "source": [
    "joblib.dump(knn, 'project_work\\\\training_data\\\\knn_model.pkl')\n",
    "print(\"KNN Model dumped!\")\n",
    "joblib.dump(dtc, 'project_work\\\\training_data\\\\dtc_model.pkl')\n",
    "print(\"Decision Tree Model dumped!\")\n",
    "joblib.dump(logreg, 'project_work\\\\training_data\\\\logreg_model.pkl')\n",
    "print(\"Logistic Model dumped!\")\n",
    "joblib.dump(svc_1, 'project_work\\\\training_data\\\\svc_sigmoid.pkl')\n",
    "print(\"SVC Sigmoid Model dumped!\")\n",
    "joblib.dump(svc_rbf, 'project_work\\\\training_data\\\\svc_rbf.pkl')\n",
    "print(\"SVC RBF Model dumped!\")"
   ]
  },
  {
   "cell_type": "code",
   "execution_count": 113,
   "metadata": {},
   "outputs": [
    {
     "name": "stdout",
     "output_type": "stream",
     "text": [
      "Models columns dumped!\n"
     ]
    }
   ],
   "source": [
    "model_columns = list(X.columns)\n",
    "joblib.dump(model_columns, 'project_work\\\\training_data\\\\model_columns.pkl')\n",
    "print(\"Models columns dumped!\")"
   ]
  },
  {
   "cell_type": "markdown",
   "metadata": {},
   "source": [
    "<b>Verifying that model dump was success</b>"
   ]
  },
  {
   "cell_type": "code",
   "execution_count": 114,
   "metadata": {},
   "outputs": [],
   "source": [
    "knn_loaded = joblib.load('project_work\\\\training_data\\\\knn_model.pkl')"
   ]
  },
  {
   "cell_type": "markdown",
   "metadata": {},
   "source": [
    "<b> Testing model prediction with sample data </b>"
   ]
  },
  {
   "cell_type": "code",
   "execution_count": 115,
   "metadata": {},
   "outputs": [
    {
     "data": {
      "text/html": [
       "<div>\n",
       "<style scoped>\n",
       "    .dataframe tbody tr th:only-of-type {\n",
       "        vertical-align: middle;\n",
       "    }\n",
       "\n",
       "    .dataframe tbody tr th {\n",
       "        vertical-align: top;\n",
       "    }\n",
       "\n",
       "    .dataframe thead th {\n",
       "        text-align: right;\n",
       "    }\n",
       "</style>\n",
       "<table border=\"1\" class=\"dataframe\">\n",
       "  <thead>\n",
       "    <tr style=\"text-align: right;\">\n",
       "      <th></th>\n",
       "      <th>cpu_user</th>\n",
       "      <th>cpu_nice</th>\n",
       "      <th>cpu_system</th>\n",
       "      <th>cpu_idle</th>\n",
       "      <th>cpu_iowait</th>\n",
       "      <th>cpu_irq</th>\n",
       "      <th>cpu_softirq</th>\n",
       "      <th>cpu_steal</th>\n",
       "      <th>cpu_guest</th>\n",
       "      <th>cpu_guest_nice</th>\n",
       "      <th>...</th>\n",
       "      <th>disk_write_merged_count</th>\n",
       "      <th>disk_busy_time</th>\n",
       "      <th>net_bytes_sent</th>\n",
       "      <th>net_bytes_recv</th>\n",
       "      <th>net_packets_sent</th>\n",
       "      <th>net_packets_recv</th>\n",
       "      <th>net_errin</th>\n",
       "      <th>net_errout</th>\n",
       "      <th>net_dropin</th>\n",
       "      <th>net_dropout</th>\n",
       "    </tr>\n",
       "  </thead>\n",
       "  <tbody>\n",
       "    <tr>\n",
       "      <th>0</th>\n",
       "      <td>2</td>\n",
       "      <td>0</td>\n",
       "      <td>1</td>\n",
       "      <td>0</td>\n",
       "      <td>0</td>\n",
       "      <td>0</td>\n",
       "      <td>0</td>\n",
       "      <td>0</td>\n",
       "      <td>0</td>\n",
       "      <td>0</td>\n",
       "      <td>...</td>\n",
       "      <td>404</td>\n",
       "      <td>42740</td>\n",
       "      <td>145824</td>\n",
       "      <td>91657</td>\n",
       "      <td>881</td>\n",
       "      <td>728</td>\n",
       "      <td>0</td>\n",
       "      <td>0</td>\n",
       "      <td>0</td>\n",
       "      <td>0</td>\n",
       "    </tr>\n",
       "  </tbody>\n",
       "</table>\n",
       "<p>1 rows × 60 columns</p>\n",
       "</div>"
      ],
      "text/plain": [
       "   cpu_user  cpu_nice  cpu_system  cpu_idle  cpu_iowait  cpu_irq  cpu_softirq  \\\n",
       "0         2         0           1         0           0        0            0   \n",
       "\n",
       "   cpu_steal  cpu_guest  cpu_guest_nice  ...  disk_write_merged_count  \\\n",
       "0          0          0               0  ...                      404   \n",
       "\n",
       "   disk_busy_time  net_bytes_sent  net_bytes_recv  net_packets_sent  \\\n",
       "0           42740          145824           91657               881   \n",
       "\n",
       "   net_packets_recv  net_errin  net_errout  net_dropin  net_dropout  \n",
       "0               728          0           0           0            0  \n",
       "\n",
       "[1 rows x 60 columns]"
      ]
     },
     "execution_count": 115,
     "metadata": {},
     "output_type": "execute_result"
    }
   ],
   "source": [
    "from io import StringIO\n",
    "test=StringIO(\"cpu_user,cpu_nice,cpu_system,cpu_idle,cpu_iowait,cpu_irq,cpu_softirq,cpu_steal,cpu_guest,cpu_guest_nice,cpu_percent_avg,cpu_percent,cpu_user_0,cpu_nice_0,cpu_system_0,cpu_idle_0,cpu_iowait_0,cpu_irq_0,cpu_softirq_0,cpu_steal_0,cpu_guest_0,cpu_guest_nice_0,mem_total,mem_available,mem_percent,mem_used,mem_free,mem_active,mem_inactive,mem_buffers,mem_cached,mem_shared,mem_slab,swap_total,swap_used,swap_free,swap_percent,swap_sin,swap_sout,disk_total,disk_used,disk_free,disk_percent,disk_read_count,disk_write_count,disk_read_bytes,disk_write_bytes,disk_read_time,disk_write_time,disk_read_merged_count,disk_write_merged_count,disk_busy_time,net_bytes_sent,net_bytes_recv,net_packets_sent,net_packets_recv,net_errin,net_errout,net_dropin,net_dropout\\n2,0,1,0,0,0,0,0,0,0,140,100,2,0,1,0,0,0,0,0,0,0,1016025088,692858880,31.8,168185856,466272256,132165632,304832512,24055808,357511168,851968,60219392,0,0,0,0,0,0,10340794368,4195700736,6128316416,40.6,10074,1449,397808128,12132352,34208,12758,3198,404,42740,145824,91657,881,728,0,0,0,0\")\n",
    "test_df=pd.read_csv(test)\n",
    "test_df = test_df.select_dtypes(exclude=['object'])\n",
    "test_df\n"
   ]
  },
  {
   "cell_type": "code",
   "execution_count": 116,
   "metadata": {},
   "outputs": [
    {
     "name": "stdout",
     "output_type": "stream",
     "text": [
      "<class 'pandas.core.frame.DataFrame'>\n",
      "RangeIndex: 1 entries, 0 to 0\n",
      "Data columns (total 60 columns):\n",
      " #   Column                   Non-Null Count  Dtype  \n",
      "---  ------                   --------------  -----  \n",
      " 0   cpu_user                 1 non-null      int64  \n",
      " 1   cpu_nice                 1 non-null      int64  \n",
      " 2   cpu_system               1 non-null      int64  \n",
      " 3   cpu_idle                 1 non-null      int64  \n",
      " 4   cpu_iowait               1 non-null      int64  \n",
      " 5   cpu_irq                  1 non-null      int64  \n",
      " 6   cpu_softirq              1 non-null      int64  \n",
      " 7   cpu_steal                1 non-null      int64  \n",
      " 8   cpu_guest                1 non-null      int64  \n",
      " 9   cpu_guest_nice           1 non-null      int64  \n",
      " 10  cpu_percent_avg          1 non-null      int64  \n",
      " 11  cpu_percent              1 non-null      int64  \n",
      " 12  cpu_user_0               1 non-null      int64  \n",
      " 13  cpu_nice_0               1 non-null      int64  \n",
      " 14  cpu_system_0             1 non-null      int64  \n",
      " 15  cpu_idle_0               1 non-null      int64  \n",
      " 16  cpu_iowait_0             1 non-null      int64  \n",
      " 17  cpu_irq_0                1 non-null      int64  \n",
      " 18  cpu_softirq_0            1 non-null      int64  \n",
      " 19  cpu_steal_0              1 non-null      int64  \n",
      " 20  cpu_guest_0              1 non-null      int64  \n",
      " 21  cpu_guest_nice_0         1 non-null      int64  \n",
      " 22  mem_total                1 non-null      int64  \n",
      " 23  mem_available            1 non-null      int64  \n",
      " 24  mem_percent              1 non-null      float64\n",
      " 25  mem_used                 1 non-null      int64  \n",
      " 26  mem_free                 1 non-null      int64  \n",
      " 27  mem_active               1 non-null      int64  \n",
      " 28  mem_inactive             1 non-null      int64  \n",
      " 29  mem_buffers              1 non-null      int64  \n",
      " 30  mem_cached               1 non-null      int64  \n",
      " 31  mem_shared               1 non-null      int64  \n",
      " 32  mem_slab                 1 non-null      int64  \n",
      " 33  swap_total               1 non-null      int64  \n",
      " 34  swap_used                1 non-null      int64  \n",
      " 35  swap_free                1 non-null      int64  \n",
      " 36  swap_percent             1 non-null      int64  \n",
      " 37  swap_sin                 1 non-null      int64  \n",
      " 38  swap_sout                1 non-null      int64  \n",
      " 39  disk_total               1 non-null      int64  \n",
      " 40  disk_used                1 non-null      int64  \n",
      " 41  disk_free                1 non-null      int64  \n",
      " 42  disk_percent             1 non-null      float64\n",
      " 43  disk_read_count          1 non-null      int64  \n",
      " 44  disk_write_count         1 non-null      int64  \n",
      " 45  disk_read_bytes          1 non-null      int64  \n",
      " 46  disk_write_bytes         1 non-null      int64  \n",
      " 47  disk_read_time           1 non-null      int64  \n",
      " 48  disk_write_time          1 non-null      int64  \n",
      " 49  disk_read_merged_count   1 non-null      int64  \n",
      " 50  disk_write_merged_count  1 non-null      int64  \n",
      " 51  disk_busy_time           1 non-null      int64  \n",
      " 52  net_bytes_sent           1 non-null      int64  \n",
      " 53  net_bytes_recv           1 non-null      int64  \n",
      " 54  net_packets_sent         1 non-null      int64  \n",
      " 55  net_packets_recv         1 non-null      int64  \n",
      " 56  net_errin                1 non-null      int64  \n",
      " 57  net_errout               1 non-null      int64  \n",
      " 58  net_dropin               1 non-null      int64  \n",
      " 59  net_dropout              1 non-null      int64  \n",
      "dtypes: float64(2), int64(58)\n",
      "memory usage: 608.0 bytes\n"
     ]
    }
   ],
   "source": [
    "test_df.columns\n",
    "test_df.info()"
   ]
  },
  {
   "cell_type": "code",
   "execution_count": 117,
   "metadata": {},
   "outputs": [],
   "source": [
    "prediction = list(knn_loaded.predict(test_df))"
   ]
  },
  {
   "cell_type": "code",
   "execution_count": 118,
   "metadata": {},
   "outputs": [
    {
     "data": {
      "text/plain": [
       "[0]"
      ]
     },
     "execution_count": 118,
     "metadata": {},
     "output_type": "execute_result"
    }
   ],
   "source": [
    "prediction"
   ]
  },
  {
   "cell_type": "code",
   "execution_count": 119,
   "metadata": {},
   "outputs": [
    {
     "data": {
      "text/html": [
       "<div>\n",
       "<style scoped>\n",
       "    .dataframe tbody tr th:only-of-type {\n",
       "        vertical-align: middle;\n",
       "    }\n",
       "\n",
       "    .dataframe tbody tr th {\n",
       "        vertical-align: top;\n",
       "    }\n",
       "\n",
       "    .dataframe thead th {\n",
       "        text-align: right;\n",
       "    }\n",
       "</style>\n",
       "<table border=\"1\" class=\"dataframe\">\n",
       "  <thead>\n",
       "    <tr style=\"text-align: right;\">\n",
       "      <th></th>\n",
       "      <th>cpu_user</th>\n",
       "      <th>cpu_nice</th>\n",
       "      <th>cpu_system</th>\n",
       "      <th>cpu_idle</th>\n",
       "      <th>cpu_iowait</th>\n",
       "      <th>cpu_irq</th>\n",
       "      <th>cpu_softirq</th>\n",
       "      <th>cpu_steal</th>\n",
       "      <th>cpu_guest</th>\n",
       "      <th>cpu_guest_nice</th>\n",
       "      <th>...</th>\n",
       "      <th>disk_write_merged_count</th>\n",
       "      <th>disk_busy_time</th>\n",
       "      <th>net_bytes_sent</th>\n",
       "      <th>net_bytes_recv</th>\n",
       "      <th>net_packets_sent</th>\n",
       "      <th>net_packets_recv</th>\n",
       "      <th>net_errin</th>\n",
       "      <th>net_errout</th>\n",
       "      <th>net_dropin</th>\n",
       "      <th>net_dropout</th>\n",
       "    </tr>\n",
       "  </thead>\n",
       "  <tbody>\n",
       "    <tr>\n",
       "      <th>0</th>\n",
       "      <td>18.2</td>\n",
       "      <td>0</td>\n",
       "      <td>0.2</td>\n",
       "      <td>0</td>\n",
       "      <td>0</td>\n",
       "      <td>0</td>\n",
       "      <td>0</td>\n",
       "      <td>81.6</td>\n",
       "      <td>0</td>\n",
       "      <td>0</td>\n",
       "      <td>...</td>\n",
       "      <td>32509</td>\n",
       "      <td>226736</td>\n",
       "      <td>53887932</td>\n",
       "      <td>59045448</td>\n",
       "      <td>318634</td>\n",
       "      <td>322793</td>\n",
       "      <td>0</td>\n",
       "      <td>0</td>\n",
       "      <td>0</td>\n",
       "      <td>0</td>\n",
       "    </tr>\n",
       "  </tbody>\n",
       "</table>\n",
       "<p>1 rows × 60 columns</p>\n",
       "</div>"
      ],
      "text/plain": [
       "   cpu_user  cpu_nice  cpu_system  cpu_idle  cpu_iowait  cpu_irq  cpu_softirq  \\\n",
       "0      18.2         0         0.2         0           0        0            0   \n",
       "\n",
       "   cpu_steal  cpu_guest  cpu_guest_nice  ...  disk_write_merged_count  \\\n",
       "0       81.6          0               0  ...                    32509   \n",
       "\n",
       "   disk_busy_time  net_bytes_sent  net_bytes_recv  net_packets_sent  \\\n",
       "0          226736        53887932        59045448            318634   \n",
       "\n",
       "   net_packets_recv  net_errin  net_errout  net_dropin  net_dropout  \n",
       "0            322793          0           0           0            0  \n",
       "\n",
       "[1 rows x 60 columns]"
      ]
     },
     "execution_count": 119,
     "metadata": {},
     "output_type": "execute_result"
    }
   ],
   "source": [
    "str1 = \"cpu_user,cpu_nice,cpu_system,cpu_idle,cpu_iowait,cpu_irq,cpu_softirq,cpu_steal,cpu_guest,cpu_guest_nice,cpu_percent_avg,cpu_percent,cpu_user_0,cpu_nice_0,cpu_system_0,cpu_idle_0,cpu_iowait_0,cpu_irq_0,cpu_softirq_0,cpu_steal_0,cpu_guest_0,cpu_guest_nice_0,mem_total,mem_available,mem_percent,mem_used,mem_free,mem_active,mem_inactive,mem_buffers,mem_cached,mem_shared,mem_slab,swap_total,swap_used,swap_free,swap_percent,swap_sin,swap_sout,disk_total,disk_used,disk_free,disk_percent,disk_read_count,disk_write_count,disk_read_bytes,disk_write_bytes,disk_read_time,disk_write_time,disk_read_merged_count,disk_write_merged_count,disk_busy_time,net_bytes_sent,net_bytes_recv,net_packets_sent,net_packets_recv,net_errin,net_errout,net_dropin,net_dropout\\n\"\n",
    "str2 = \"18.2,0,0.2,0,0,0,0,81.6,0,0,103,100,18.2,0,0.2,0,0,0,0,81.6,0,0,1016025088,339738624,66.6,519102464,86519808,170053632,635641856,46600192,363802624,856064,68943872,0,0,0,0,0,0,10340794368,4190416896,6133600256,40.6,23515,95771,938340864,845168640,114927,335300,7277,32509,226736,53887932,59045448,318634,322793,0,0,0,0\"\n",
    "test=StringIO(str1+str2)\n",
    "test_df=pd.read_csv(test)\n",
    "test_df = test_df.select_dtypes(exclude=['object'])\n",
    "test_df"
   ]
  },
  {
   "cell_type": "code",
   "execution_count": 120,
   "metadata": {},
   "outputs": [
    {
     "data": {
      "text/plain": [
       "[0]"
      ]
     },
     "execution_count": 120,
     "metadata": {},
     "output_type": "execute_result"
    }
   ],
   "source": [
    "prediction = list(knn_loaded.predict(test_df))\n",
    "prediction"
   ]
  },
  {
   "cell_type": "code",
   "execution_count": 121,
   "metadata": {},
   "outputs": [
    {
     "data": {
      "text/plain": [
       "[0]"
      ]
     },
     "execution_count": 121,
     "metadata": {},
     "output_type": "execute_result"
    }
   ],
   "source": [
    "prediction = list(dtc.predict(test_df))\n",
    "prediction"
   ]
  },
  {
   "cell_type": "code",
   "execution_count": 122,
   "metadata": {},
   "outputs": [
    {
     "data": {
      "text/plain": [
       "[1]"
      ]
     },
     "execution_count": 122,
     "metadata": {},
     "output_type": "execute_result"
    }
   ],
   "source": [
    "prediction = list(svc_1.predict(test_df))\n",
    "prediction"
   ]
  },
  {
   "cell_type": "code",
   "execution_count": 123,
   "metadata": {},
   "outputs": [
    {
     "data": {
      "text/plain": [
       "[1]"
      ]
     },
     "execution_count": 123,
     "metadata": {},
     "output_type": "execute_result"
    }
   ],
   "source": [
    "prediction = list(svc_rbf.predict(test_df))\n",
    "prediction"
   ]
  },
  {
   "cell_type": "code",
   "execution_count": null,
   "metadata": {},
   "outputs": [],
   "source": []
  }
 ],
 "metadata": {
  "kernelspec": {
   "display_name": "Python 3 (ipykernel)",
   "language": "python",
   "name": "python3"
  },
  "language_info": {
   "codemirror_mode": {
    "name": "ipython",
    "version": 3
   },
   "file_extension": ".py",
   "mimetype": "text/x-python",
   "name": "python",
   "nbconvert_exporter": "python",
   "pygments_lexer": "ipython3",
   "version": "3.8.12"
  }
 },
 "nbformat": 4,
 "nbformat_minor": 4
}
